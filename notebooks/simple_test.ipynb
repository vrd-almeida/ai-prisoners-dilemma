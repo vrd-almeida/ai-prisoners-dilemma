{
 "cells": [
  {
   "cell_type": "code",
   "execution_count": null,
   "id": "1a60b355-5cc2-4e83-a639-3469eeac052f",
   "metadata": {},
   "outputs": [],
   "source": [
    "import sys\n",
    "import os\n",
    "\n",
    "# Add the parent directory to the system path\n",
    "sys.path.append(os.path.abspath(\"../prisoners_dilemma_ai\"))\n"
   ]
  },
  {
   "cell_type": "code",
   "execution_count": null,
   "id": "7043ace6-4757-499e-ac05-de38d788e057",
   "metadata": {},
   "outputs": [],
   "source": [
    "from strategies import AlwaysConfess, AlwaysStaySilent, AlwaysOpponentsLastMove\n",
    "from game import play_round\n"
   ]
  },
  {
   "cell_type": "code",
   "execution_count": null,
   "id": "f98def57-333e-414a-87e8-d33f59bc0c47",
   "metadata": {},
   "outputs": [],
   "source": [
    "p1 = AlwaysOpponentsLastMove()  # opponet's last response\n",
    "p2 = AlwaysStaySilent()  # stay silent\n",
    "\n",
    "total1 = 0\n",
    "total2 = 0\n",
    "\n",
    "for i in range(10):\n",
    "    r1, r2 = play_round(p1, p2)\n",
    "    total1 += r1\n",
    "    total2 += r2\n",
    "    print(f\"Round {i+1}: {p1.name} = {r1}, {p2.name} = {r2}\")\n",
    "\n",
    "print(f\"Total: {p1.name} = {total1}, {p2.name} = {total2}\")\n"
   ]
  },
  {
   "cell_type": "code",
   "execution_count": null,
   "id": "8179cae5-3147-4033-a510-5e99c2afc31a",
   "metadata": {},
   "outputs": [],
   "source": [
    "from rl_agent import QLearningAgent"
   ]
  },
  {
   "cell_type": "code",
   "execution_count": null,
   "id": "64a271f7-a422-4921-b978-70c46629f895",
   "metadata": {},
   "outputs": [],
   "source": [
    "agent = QLearningAgent()\n",
    "opponent = AlwaysOpponentsLastMove()\n",
    "\n",
    "rewards_agent = []\n",
    "rewards_opponent = []\n",
    "\n",
    "for i in range(100):\n",
    "    r1, r2 = play_round(agent, opponent)\n",
    "    rewards_agent.append(r1)\n",
    "    rewards_opponent.append(r2)\n",
    "\n",
    "import matplotlib.pyplot as plt\n",
    "\n",
    "plt.plot(rewards_agent, '.', label=\"Q-Learning Agent\")\n",
    "plt.plot(rewards_opponent, '.', label=\"Last opponent Move Agent\")\n",
    "plt.xlabel(\"Round\")\n",
    "plt.ylabel(\"Reward\")\n",
    "plt.legend()\n",
    "plt.title(\"Rewards over Time\")\n",
    "plt.show()\n"
   ]
  },
  {
   "cell_type": "code",
   "execution_count": null,
   "id": "d937b3f9-fd5a-4329-af7c-9af67de5e7f7",
   "metadata": {},
   "outputs": [],
   "source": [
    "agent = QLearningAgent()\n",
    "opponent = AlwaysStaySilent()\n",
    "\n",
    "rewards_agent = []\n",
    "rewards_opponent = []\n",
    "\n",
    "for i in range(300):\n",
    "    r1, r2 = play_round(agent, opponent)\n",
    "    rewards_agent.append(r1)\n",
    "    rewards_opponent.append(r2)\n",
    "\n",
    "import matplotlib.pyplot as plt\n",
    "\n",
    "plt.plot(rewards_agent, '.', label=\"Q-Learning Agent\")\n",
    "plt.plot(rewards_opponent, '.', label=\"Always Stay Silent\")\n",
    "plt.xlabel(\"Round\")\n",
    "plt.ylabel(\"Reward\")\n",
    "plt.legend()\n",
    "plt.title(\"Rewards over Time\")\n",
    "plt.show()"
   ]
  },
  {
   "cell_type": "code",
   "execution_count": null,
   "id": "447f11aa-ecdf-4101-aa2b-fcfc6e060405",
   "metadata": {},
   "outputs": [],
   "source": [
    "agent = QLearningAgent()\n",
    "opponent = AlwaysConfess()\n",
    "\n",
    "rewards_agent = []\n",
    "rewards_opponent = []\n",
    "\n",
    "for i in range(300):\n",
    "    r1, r2 = play_round(agent, opponent)\n",
    "    rewards_agent.append(r1)\n",
    "    rewards_opponent.append(r2)\n",
    "\n",
    "import matplotlib.pyplot as plt\n",
    "\n",
    "plt.plot(rewards_agent, '.', label=\"Q-Learning Agent\")\n",
    "plt.plot(rewards_opponent, '.', label=\"Always Confess\")\n",
    "plt.xlabel(\"Round\")\n",
    "plt.ylabel(\"Reward\")\n",
    "plt.legend()\n",
    "plt.title(\"Rewards over Time\")\n",
    "plt.show()"
   ]
  },
  {
   "cell_type": "code",
   "execution_count": null,
   "id": "cb095dff-75e6-49ab-ba56-e56a45bbb893",
   "metadata": {},
   "outputs": [],
   "source": [
    "agent = QLearningAgent()\n",
    "opponent = QLearningAgent()\n",
    "\n",
    "rewards_agent = []\n",
    "rewards_opponent = []\n",
    "\n",
    "for i in range(300):\n",
    "    r1, r2 = play_round(agent, opponent)\n",
    "    rewards_agent.append(r1)\n",
    "    rewards_opponent.append(r2)\n",
    "\n",
    "import matplotlib.pyplot as plt\n",
    "\n",
    "plt.plot(rewards_agent, '.', label=\"Q-Learning Agent 1\")\n",
    "plt.plot(rewards_opponent, '.', label=\"Q-Learning Agent 2\")\n",
    "plt.xlabel(\"Round\")\n",
    "plt.ylabel(\"Reward\")\n",
    "plt.legend()\n",
    "plt.title(\"Rewards over Time\")\n",
    "plt.show()"
   ]
  },
  {
   "cell_type": "code",
   "execution_count": null,
   "id": "d41994eb-d145-4854-a871-a68d7679cc94",
   "metadata": {},
   "outputs": [],
   "source": []
  }
 ],
 "metadata": {
  "kernelspec": {
   "display_name": "Python (ai-prisoners-dilemma)",
   "language": "python",
   "name": "ai-prisoners-dilemma"
  },
  "language_info": {
   "codemirror_mode": {
    "name": "ipython",
    "version": 3
   },
   "file_extension": ".py",
   "mimetype": "text/x-python",
   "name": "python",
   "nbconvert_exporter": "python",
   "pygments_lexer": "ipython3",
   "version": "3.13.2"
  }
 },
 "nbformat": 4,
 "nbformat_minor": 5
}
